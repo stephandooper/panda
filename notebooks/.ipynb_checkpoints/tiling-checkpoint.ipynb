{
 "cells": [
  {
   "cell_type": "markdown",
   "metadata": {},
   "source": [
    "# Tiling and data augmentation: a first approach\n",
    "The EDA notebook has shown us that data augmentation is needed: color stain augmentation could help bring the distributions of Karolinska and Radboud together, hopefully closing the distinctness of both distributions so that the resulting model can be stain invariant with respect to these two providers.\n",
    "\n",
    "A second idea is to use tiling: the tissue samples consist of a large white background, which do not need to be evaluated in the model, saving processing and training time. The focus of this notebook is threefold:\n",
    "\n",
    "* Create a small data augmentation scheme, and plotting/comparing the distributions of the original data, and the augmented distribution\n",
    "\n",
    "* Creating a tiling example which can be used in a processing pipeline\n",
    "\n",
    "* Creating a first baseline model, to be improved upon.\n",
    "\n",
    "A few starting points are provided on Kaggle. \n",
    "\n",
    "* https://www.kaggle.com/c/prostate-cancer-grade-assessment/discussion/146855"
   ]
  },
  {
   "cell_type": "markdown",
   "metadata": {},
   "source": [
    "## Part 1: Tiling implementation\n",
    "\n",
    "\n",
    "\n",
    "![woof](https://www.googleapis.com/download/storage/v1/b/kaggle-user-content/o/inbox%2F1212661%2Fe6fe32d759a28480343001aa3c661723%2FTILE.png?generation=1588094975239255&alt=media)\n",
    "*source: https://www.kaggle.com/c/prostate-cancer-grade-assessment/discussion/146855*"
   ]
  },
  {
   "cell_type": "code",
   "execution_count": null,
   "metadata": {},
   "outputs": [],
   "source": []
  }
 ],
 "metadata": {
  "kernelspec": {
   "display_name": "Python 3",
   "language": "python",
   "name": "python3"
  },
  "language_info": {
   "codemirror_mode": {
    "name": "ipython",
    "version": 3
   },
   "file_extension": ".py",
   "mimetype": "text/x-python",
   "name": "python",
   "nbconvert_exporter": "python",
   "pygments_lexer": "ipython3",
   "version": "3.6.10"
  }
 },
 "nbformat": 4,
 "nbformat_minor": 4
}
