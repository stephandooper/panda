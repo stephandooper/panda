{
 "cells": [
  {
   "cell_type": "code",
   "execution_count": 1,
   "metadata": {},
   "outputs": [],
   "source": [
    "import pyvips\n",
    "from pathlib import Path\n",
    "from tqdm import tqdm\n",
    "import os\n",
    "#vips <svsfile.svs>[level=1] x.tiff --pyramid --tile --compression=jpeg"
   ]
  },
  {
   "cell_type": "code",
   "execution_count": null,
   "metadata": {},
   "outputs": [
    {
     "name": "stderr",
     "output_type": "stream",
     "text": [
      " 82%|████████▏ | 370/449 [2:09:26<27:36, 20.97s/it]  "
     ]
    }
   ],
   "source": [
    "out_path = '../data/external/tcga/'\n",
    "dirs = Path('../data/external/gdc/').rglob('*.svs')\n",
    "\n",
    "for path in tqdm(list(dirs)):\n",
    "    fname = path.stem\n",
    "    #x = pyvips.Image.new_from_file(path, level=1)\n",
    "    full_out_path = Path(out_path) / Path(fname +'.tiff')\n",
    "    svs_file = pyvips.Image.new_from_file(str(path), level=1)\n",
    "    svs_file.tiffsave(str(full_out_path), compression='jpeg', tile=True, pyramid=True, properties=True)\n",
    "    os.remove(str(path))\n",
    "    \n"
   ]
  },
  {
   "cell_type": "code",
   "execution_count": null,
   "metadata": {},
   "outputs": [],
   "source": []
  }
 ],
 "metadata": {
  "kernelspec": {
   "display_name": "Python 3",
   "language": "python",
   "name": "python3"
  },
  "language_info": {
   "codemirror_mode": {
    "name": "ipython",
    "version": 3
   },
   "file_extension": ".py",
   "mimetype": "text/x-python",
   "name": "python",
   "nbconvert_exporter": "python",
   "pygments_lexer": "ipython3",
   "version": "3.6.10"
  }
 },
 "nbformat": 4,
 "nbformat_minor": 4
}
