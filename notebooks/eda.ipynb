{
 "cells": [
  {
   "cell_type": "markdown",
   "metadata": {},
   "source": [
    "## Panda challenge exploratory data analysis\n",
    "\n",
    "This notebook EDA is a mix of existing EDA notebooks in the Prostate cANcer graDe Assessment (PANDA) challenge hosted on [kaggle](https://www.kaggle.com/c/prostate-cancer-grade-assessment/overview).\n",
    "\n",
    "The Gleason grading system is outlined in the figure below\n",
    "<img src=\"https://murtagh.mhmedical.com/data/books/2471/murtagh7e_c114_f04.png\">\n",
    "\n",
    "\n",
    "### Gleason system and isup\n",
    "Gleason system and isup grades\n",
    "<img src=\"https://storage.googleapis.com/kaggle-media/competitions/PANDA/Screen%20Shot%202020-04-08%20at%202.03.53%20PM.png\">"
   ]
  },
  {
   "cell_type": "code",
   "execution_count": 1,
   "metadata": {},
   "outputs": [],
   "source": [
    "import numpy as np\n",
    "import pandas as pd\n",
    "import csv"
   ]
  },
  {
   "cell_type": "code",
   "execution_count": null,
   "metadata": {},
   "outputs": [],
   "source": []
  }
 ],
 "metadata": {
  "kernelspec": {
   "display_name": "Python 3",
   "language": "python",
   "name": "python3"
  },
  "language_info": {
   "codemirror_mode": {
    "name": "ipython",
    "version": 3
   },
   "file_extension": ".py",
   "mimetype": "text/x-python",
   "name": "python",
   "nbconvert_exporter": "python",
   "pygments_lexer": "ipython3",
   "version": "3.6.10"
  }
 },
 "nbformat": 4,
 "nbformat_minor": 4
}
